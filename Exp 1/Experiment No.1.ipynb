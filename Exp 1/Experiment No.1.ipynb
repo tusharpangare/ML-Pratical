{
 "cells": [
  {
   "cell_type": "code",
   "execution_count": 6,
   "id": "0d9dbdd6",
   "metadata": {},
   "outputs": [],
   "source": [
    "import matplotlib.pyplot as plt\n",
    "import pandas as pd\n",
    "import csv"
   ]
  },
  {
   "cell_type": "code",
   "execution_count": 7,
   "id": "fab2016d",
   "metadata": {},
   "outputs": [],
   "source": [
    "#read the dataset the data\n",
    "df = pd.read_csv('hours.csv')"
   ]
  },
  {
   "cell_type": "code",
   "execution_count": 8,
   "id": "7444a306",
   "metadata": {},
   "outputs": [
    {
     "name": "stdout",
     "output_type": "stream",
     "text": [
      "    x   y\n",
      "0  10  95\n",
      "1   9  80\n",
      "2   2  10\n",
      "3  15  50\n",
      "4  10  45\n",
      "5  16  98\n",
      "6  11  38\n",
      "7  16  93\n"
     ]
    }
   ],
   "source": [
    "# print the dataset\n",
    "print(df)"
   ]
  },
  {
   "cell_type": "code",
   "execution_count": 9,
   "id": "5ce1def5",
   "metadata": {},
   "outputs": [
    {
     "name": "stdout",
     "output_type": "stream",
     "text": [
      "    x   y\n",
      "0  10  95\n",
      "1   9  80\n",
      "2   2  10\n",
      "3  15  50\n"
     ]
    }
   ],
   "source": [
    "# print first n rows using head(n)\n",
    "print(df.head(4))"
   ]
  },
  {
   "cell_type": "code",
   "execution_count": 10,
   "id": "f7182a23",
   "metadata": {},
   "outputs": [
    {
     "name": "stdout",
     "output_type": "stream",
     "text": [
      "    x   y\n",
      "4  10  45\n",
      "5  16  98\n",
      "6  11  38\n",
      "7  16  93\n"
     ]
    }
   ],
   "source": [
    "# print last n rows using tail(n)\n",
    "print(df.tail(4))"
   ]
  },
  {
   "cell_type": "code",
   "execution_count": 11,
   "id": "43f7dd60",
   "metadata": {},
   "outputs": [
    {
     "name": "stdout",
     "output_type": "stream",
     "text": [
      "[<matplotlib.lines.Line2D object at 0x000001BE0F161FC0>]\n"
     ]
    },
    {
     "data": {
      "image/png": "[encoded data removed]",
      "text/plain": [
       "<Figure size 432x288 with 1 Axes>"
      ]
     },
     "metadata": {
      "needs_background": "light"
     },
     "output_type": "display_data"
    }
   ],
   "source": [
    "# x=no of hours\n",
    "hours = []\n",
    "# y= risk score\n",
    "risc_score = []\n",
    "  \n",
    "with open('hours.csv','r') as csvfile:\n",
    "    lines = csv.reader(csvfile, delimiter=',')\n",
    "    for row in lines:\n",
    "        risc_score.append(row[1])\n",
    "        hours.append(row[0])\n",
    "\n",
    "hours = hours[1:]\n",
    "risc_score =risc_score[1:]\n",
    "print(plt.plot(hours,risc_score,\"+\"))  \n"
   ]
  },
  {
   "cell_type": "code",
   "execution_count": 12,
   "id": "8091a744",
   "metadata": {},
   "outputs": [
    {
     "name": "stdout",
     "output_type": "stream",
     "text": [
      "    x\n",
      "0  10\n",
      "1   9\n",
      "2   2\n",
      "3  15\n",
      "4  10\n",
      "5  16\n",
      "6  11\n",
      "7  16\n"
     ]
    }
   ],
   "source": [
    "# iloc performs index based operations\n",
    "# df.iloc[x,y] here we want to show only x cloumn \n",
    "hours = df.iloc[:,:-1]\n",
    "print(hours)"
   ]
  },
  {
   "cell_type": "code",
   "execution_count": 13,
   "id": "62394d11",
   "metadata": {},
   "outputs": [
    {
     "name": "stdout",
     "output_type": "stream",
     "text": [
      "    y\n",
      "0  95\n",
      "1  80\n",
      "2  10\n",
      "3  50\n",
      "4  45\n",
      "5  98\n",
      "6  38\n",
      "7  93\n"
     ]
    }
   ],
   "source": [
    "# print risk score\n",
    "risk_score=df.iloc[:,1:]\n",
    "print(risk_score)"
   ]
  },
  {
   "cell_type": "code",
   "execution_count": 14,
   "id": "533bc856",
   "metadata": {},
   "outputs": [],
   "source": [
    "from sklearn.linear_model import LinearRegression"
   ]
  },
  {
   "cell_type": "code",
   "execution_count": 15,
   "id": "949c69a4",
   "metadata": {},
   "outputs": [
    {
     "data": {
      "text/plain": [
       "LinearRegression()"
      ]
     },
     "execution_count": 15,
     "metadata": {},
     "output_type": "execute_result"
    }
   ],
   "source": [
    "LR=LinearRegression()\n",
    "#  fit adjusts weights according to data values for better accuracy\n",
    "LR.fit(hours,risk_score)"
   ]
  },
  {
   "cell_type": "code",
   "execution_count": 16,
   "id": "ddc0033d",
   "metadata": {},
   "outputs": [
    {
     "name": "stdout",
     "output_type": "stream",
     "text": [
      "[12.58462796]\n"
     ]
    }
   ],
   "source": [
    "# show y-intercept of reg. line\n",
    "print(LR.intercept_)\n"
   ]
  },
  {
   "cell_type": "code",
   "execution_count": 17,
   "id": "29f13e97",
   "metadata": {},
   "outputs": [
    {
     "name": "stdout",
     "output_type": "stream",
     "text": [
      "[[4.58789861]]\n"
     ]
    }
   ],
   "source": [
    "print(LR.coef_)\n",
    "# coefficients for the prediction"
   ]
  },
  {
   "cell_type": "code",
   "execution_count": 18,
   "id": "62e34e2d",
   "metadata": {},
   "outputs": [
    {
     "name": "stdout",
     "output_type": "stream",
     "text": [
      "[[150.22158626]]\n"
     ]
    },
    {
     "name": "stderr",
     "output_type": "stream",
     "text": [
      "C:\\Users\\tushar_pangare\\AppData\\Local\\Programs\\Python\\Python310\\lib\\site-packages\\sklearn\\base.py:450: UserWarning: X does not have valid feature names, but LinearRegression was fitted with feature names\n",
      "  warnings.warn(\n"
     ]
    }
   ],
   "source": [
    "# Predict using the linear model.\n",
    "riskScore = LR.predict([[30]])\n",
    "\n",
    "print(riskScore)"
   ]
  },
  {
   "cell_type": "code",
   "execution_count": 19,
   "id": "d87892c5",
   "metadata": {},
   "outputs": [
    {
     "data": {
      "image/png": "[encoded data removed]",
      "text/plain": [
       "<Figure size 432x288 with 1 Axes>"
      ]
     },
     "metadata": {
      "needs_background": "light"
     },
     "output_type": "display_data"
    }
   ],
   "source": [
    "plt.plot(hours,risk_score,'*')\n",
    "plt.plot(hours,LR.predict(hours))\n",
    "plt.show()"
   ]
  },
  {
   "cell_type": "code",
   "execution_count": 20,
   "id": "680beb1d",
   "metadata": {},
   "outputs": [
    {
     "name": "stdout",
     "output_type": "stream",
     "text": [
      "43.709481451010035\n"
     ]
    }
   ],
   "source": [
    "accuracy=LR.score(hours,risk_score)*100\n",
    "print(accuracy)"
   ]
  },
  {
   "cell_type": "code",
   "execution_count": 34,
   "id": "da5fb73a",
   "metadata": {},
   "outputs": [
    {
     "name": "stdout",
     "output_type": "stream",
     "text": [
      "[[49.28781684]]\n"
     ]
    },
    {
     "name": "stderr",
     "output_type": "stream",
     "text": [
      "C:\\Users\\tushar_pangare\\AppData\\Local\\Programs\\Python\\Python310\\lib\\site-packages\\sklearn\\base.py:450: UserWarning: X does not have valid feature names, but LinearRegression was fitted with feature names\n",
      "  warnings.warn(\n"
     ]
    }
   ],
   "source": [
    "\n",
    "# Predict the value using LR Object\n",
    "y_pred=LR.predict([[8]])\n",
    "print(y_pred)\n"
   ]
  },
  {
   "cell_type": "code",
   "execution_count": 33,
   "id": "14a5f043",
   "metadata": {},
   "outputs": [
    {
     "name": "stdout",
     "output_type": "stream",
     "text": [
      "Enter the no of hours:10\n",
      "y =4.587898609975469*10+12.584627964022907\n"
     ]
    }
   ],
   "source": [
    "\n",
    "# Take user input\n",
    "hours=int(input('Enter the no of hours:'))\n",
    "\n",
    "#calculate the value of y\n",
    "eq=LR.coef_*hours+LR.intercept_\n",
    "print(f\"y ={LR.coef_[0][0]}*{hours}+{LR.intercept_[0]}\")"
   ]
  }
 ],
 "metadata": {
  "kernelspec": {
   "display_name": "Python 3 (ipykernel)",
   "language": "python",
   "name": "python3"
  },
  "language_info": {
   "codemirror_mode": {
    "name": "ipython",
    "version": 3
   },
   "file_extension": ".py",
   "mimetype": "text/x-python",
   "name": "python",
   "nbconvert_exporter": "python",
   "pygments_lexer": "ipython3",
   "version": "3.10.3"
  }
 },
 "nbformat": 4,
 "nbformat_minor": 5
}
